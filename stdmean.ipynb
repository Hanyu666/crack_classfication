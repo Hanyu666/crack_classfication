{
 "cells": [
  {
   "cell_type": "code",
   "execution_count": 1,
   "metadata": {},
   "outputs": [
    {
     "name": "stdout",
     "output_type": "stream",
     "text": [
      "计算得到的均值: tensor([0.6953, 0.6752, 0.6424])\n",
      "计算得到的标准差: tensor([0.0941, 0.0914, 0.0880])\n"
     ]
    }
   ],
   "source": [
    "# 计算数据集的均值和标准差\n",
    "import torch\n",
    "from torchvision import transforms, datasets\n",
    "from torch.utils.data import DataLoader\n",
    "\n",
    "def calculate_dataset_stats(dataset_path, batch_size=64, num_workers=4):\n",
    "    # 只使用 ToTensor 变换，不进行标准化\n",
    "    transform = transforms.Compose([\n",
    "        transforms.Resize((224, 224)),\n",
    "        transforms.ToTensor()\n",
    "    ])\n",
    "\n",
    "    # 加载数据集\n",
    "    dataset = datasets.ImageFolder(dataset_path, transform=transform)\n",
    "    dataloader = DataLoader(dataset, batch_size=batch_size, num_workers=num_workers, shuffle=False)\n",
    "\n",
    "    # 初始化变量\n",
    "    total_mean = torch.zeros(3)\n",
    "    total_var = torch.zeros(3)\n",
    "    total_images = 0\n",
    "\n",
    "    # 计算均值和方差\n",
    "    for images, _ in dataloader:\n",
    "        batch_samples = images.size(0)\n",
    "        images = images.view(batch_samples, images.size(1), -1)\n",
    "        total_mean += images.mean(2).sum(0)\n",
    "        total_var += images.var(2).sum(0)\n",
    "        total_images += batch_samples\n",
    "\n",
    "    # 计算最终的均值和标准差\n",
    "    mean = total_mean / total_images\n",
    "    std = torch.sqrt(total_var / total_images)\n",
    "\n",
    "    return mean, std\n",
    "\n",
    "# 使用函数\n",
    "dataset_path = './archive'\n",
    "mean, std = calculate_dataset_stats(dataset_path)\n",
    "\n",
    "print(f\"计算得到的均值: {mean}\")\n",
    "print(f\"计算得到的标准差: {std}\")"
   ]
  }
 ],
 "metadata": {
  "kernelspec": {
   "display_name": "mykaggle",
   "language": "python",
   "name": "python3"
  },
  "language_info": {
   "codemirror_mode": {
    "name": "ipython",
    "version": 3
   },
   "file_extension": ".py",
   "mimetype": "text/x-python",
   "name": "python",
   "nbconvert_exporter": "python",
   "pygments_lexer": "ipython3",
   "version": "3.12.3"
  }
 },
 "nbformat": 4,
 "nbformat_minor": 2
}
